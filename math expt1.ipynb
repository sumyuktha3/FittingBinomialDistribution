{
 "cells": [
  {
   "cell_type": "code",
   "execution_count": 1,
   "metadata": {},
   "outputs": [
    {
     "name": "stdout",
     "output_type": "stream",
     "text": [
      "  X P(X=x) Observed.Freq  Expexted.Freq   xi \n",
      "----------------------------------\n",
      "0.00 0.03  13.00   5.91  8.49\n",
      "1.00 0.14  25.00   28.85  0.51\n",
      "2.00 0.28  52.00   58.63  0.75\n",
      "3.00 0.30  68.00   63.55  0.31\n",
      "4.00 0.18  32.00   38.75  1.18\n",
      "5.00 0.06  16.00   12.60  0.92\n",
      "6.00 0.01  4.00   1.71  3.08\n",
      "----------------------------------\n",
      "Calculated value of Chi square is 15.24\n",
      "Table value of Chi square at 1  level is 16.81\n",
      "The given data can be fitted in binomial distribution at 1% LOS\n"
     ]
    }
   ],
   "source": [
    "import numpy as np\n",
    "import math\n",
    "import scipy.stats\n",
    "\n",
    "X=[0,1,2,3,4,5,6]\n",
    "f=[13,25,52,68,32,16,4]\n",
    "n=6\n",
    "N=np.sum(f)\n",
    "mean=np.inner(X,f)/N\n",
    "p=mean/n\n",
    "q=1-p\n",
    "Proba=list(); E=list(); xi=list()\n",
    "print(\"  X P(X=x) Observed.Freq  Expexted.Freq   xi \")\n",
    "print(\"----------------------------------\")\n",
    "for x in range(7):\n",
    "    d=math.factorial(n)/(math.factorial(x)*math.factorial(n-x))\n",
    "    Proba.append(d*p**x*q**(n-x))\n",
    "    E.append(Proba[x]*N)\n",
    "    xi.append((f[x]-E[x])**2/E[x])\n",
    "    print(\"%2.2f %2.2f  %4.2f   %3.2f  %3.2f\"%(x,Proba[x],f[x],E[x],xi[x]))\n",
    "print(\"----------------------------------\")\n",
    "cal_chi2_sq=np.sum(xi)\n",
    "print(\"Calculated value of Chi square is %4.2f\"%cal_chi2_sq)\n",
    "tab_chi2_sq=scipy.stats.chi2.ppf(1-.01, df=n)\n",
    "print(\"Table value of Chi square at 1  level is %4.2f\"%tab_chi2_sq)\n",
    "if cal_chi2_sq<tab_chi2_sq:\n",
    "    print(\"The given data can be fitted in binomial distribution at 1% LOS\")\n",
    "else:\n",
    "    print(\"The given data cannot be fitted in binomial distribution at 1% LOS\")"
   ]
  },
  {
   "cell_type": "code",
   "execution_count": null,
   "metadata": {},
   "outputs": [],
   "source": []
  }
 ],
 "metadata": {
  "kernelspec": {
   "display_name": "Python 3",
   "language": "python",
   "name": "python3"
  },
  "language_info": {
   "codemirror_mode": {
    "name": "ipython",
    "version": 3
   },
   "file_extension": ".py",
   "mimetype": "text/x-python",
   "name": "python",
   "nbconvert_exporter": "python",
   "pygments_lexer": "ipython3",
   "version": "3.8.5"
  }
 },
 "nbformat": 4,
 "nbformat_minor": 4
}
